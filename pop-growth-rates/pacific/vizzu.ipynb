{
 "cells": [
  {
   "cell_type": "markdown",
   "id": "c8d7bc8f",
   "metadata": {},
   "source": [
    "# Vizzu Animation\n",
    "\n",
    "Animating Population growth rates using vizzu python library"
   ]
  },
  {
   "cell_type": "markdown",
   "id": "7520074a",
   "metadata": {},
   "source": [
    "### Population Growth Rate"
   ]
  },
  {
   "cell_type": "code",
   "execution_count": 1,
   "id": "b741e294",
   "metadata": {},
   "outputs": [
    {
     "data": {
      "application/javascript": [
       "if (!window.IpyVizzu) {\n",
       "  class IpyVizzu {\n",
       "    constructor() {\n",
       "      IpyVizzu.inhibitScroll = false;\n",
       "      IpyVizzu.nbconvert = false;\n",
       "      document.addEventListener(\n",
       "        \"wheel\",\n",
       "        (evt) => {\n",
       "          IpyVizzu.inhibitScroll = true;\n",
       "        },\n",
       "        true\n",
       "      );\n",
       "      document.addEventListener(\n",
       "        \"keydown\",\n",
       "        (evt) => {\n",
       "          IpyVizzu.inhibitScroll = true;\n",
       "        },\n",
       "        true\n",
       "      );\n",
       "      document.addEventListener(\n",
       "        \"touchstart\",\n",
       "        (evt) => {\n",
       "          IpyVizzu.inhibitScroll = true;\n",
       "        },\n",
       "        true\n",
       "      );\n",
       "\n",
       "      this.elements = {};\n",
       "      this.charts = {};\n",
       "      this.controls = {};\n",
       "\n",
       "      this.storage = {};\n",
       "      this.displays = {};\n",
       "\n",
       "      this.events = {};\n",
       "      this.loaded = {};\n",
       "      this.libs = {};\n",
       "    }\n",
       "\n",
       "    static clearInhibitScroll(element) {\n",
       "      if (IpyVizzu.nbconvert) IpyVizzu._hide(element);\n",
       "      IpyVizzu.inhibitScroll = false;\n",
       "    }\n",
       "\n",
       "    createChart(element, chartId, vizzulib, divWidth, divHeight) {\n",
       "      this.elements[chartId] = document.createElement(\"div\");\n",
       "      this.elements[\n",
       "        chartId\n",
       "      ].style.cssText = `width: ${divWidth}; height: ${divHeight};`;\n",
       "      this.loaded[chartId] = import(vizzulib);\n",
       "      this.charts[chartId] = this.loaded[chartId].then((Vizzu) => {\n",
       "        this.libs[chartId] = Vizzu.default;\n",
       "        const VizzuConstructor = Vizzu.default;\n",
       "        return new VizzuConstructor(this.elements[chartId]).initializing;\n",
       "      });\n",
       "      this._moveHere(chartId, element);\n",
       "    }\n",
       "\n",
       "    animate(\n",
       "      element,\n",
       "      chartId,\n",
       "      animId,\n",
       "      displayTarget,\n",
       "      scrollEnabled,\n",
       "      getChartTarget,\n",
       "      chartAnimOpts\n",
       "    ) {\n",
       "      if (IpyVizzu.nbconvert) IpyVizzu._hide(element);\n",
       "      if (displayTarget === \"end\") this._moveHere(chartId, element);\n",
       "      this.controls[chartId] = this.charts[chartId];\n",
       "      this.charts[chartId] = this.charts[chartId].then((chart) => {\n",
       "        if (displayTarget === \"actual\") this._moveHere(chartId, element);\n",
       "        this._scroll(chartId, scrollEnabled);\n",
       "        let chartTarget = getChartTarget(this.libs[chartId]);\n",
       "        if (typeof chartTarget === \"string\") {\n",
       "          chartTarget = this.storage[chartTarget];\n",
       "        } else if (Array.isArray(chartTarget)) {\n",
       "          for (let i = 0; i < chartTarget.length; i++) {\n",
       "            const target = chartTarget[i].target;\n",
       "            if (typeof target === \"string\") {\n",
       "              chartTarget[i].target = this.storage[target];\n",
       "            }\n",
       "          }\n",
       "        }\n",
       "        chart = chart.animate(chartTarget, chartAnimOpts);\n",
       "        this.controls[animId] = chart;\n",
       "        return chart;\n",
       "      });\n",
       "    }\n",
       "\n",
       "    store(element, chartId, id) {\n",
       "      if (IpyVizzu.nbconvert) IpyVizzu._hide(element);\n",
       "      this.charts[chartId] = this.charts[chartId].then((chart) => {\n",
       "        this.storage[id] = chart.store();\n",
       "        return chart;\n",
       "      });\n",
       "    }\n",
       "\n",
       "    feature(element, chartId, name, enabled) {\n",
       "      if (IpyVizzu.nbconvert) IpyVizzu._hide(element);\n",
       "      this.charts[chartId] = this.charts[chartId].then((chart) => {\n",
       "        chart.feature(name, enabled);\n",
       "        return chart;\n",
       "      });\n",
       "    }\n",
       "\n",
       "    setEvent(element, chartId, id, event, handler) {\n",
       "      if (IpyVizzu.nbconvert) IpyVizzu._hide(element);\n",
       "      this.charts[chartId] = this.charts[chartId].then((chart) => {\n",
       "        this.events[id] = handler;\n",
       "        chart.on(event, this.events[id]);\n",
       "        return chart;\n",
       "      });\n",
       "    }\n",
       "\n",
       "    clearEvent(element, chartId, id, event) {\n",
       "      if (IpyVizzu.nbconvert) IpyVizzu._hide(element);\n",
       "      this.charts[chartId] = this.charts[chartId].then((chart) => {\n",
       "        chart.off(event, this.events[id]);\n",
       "        return chart;\n",
       "      });\n",
       "    }\n",
       "\n",
       "    log(element, chartId, chartProperty) {\n",
       "      if (IpyVizzu.nbconvert) IpyVizzu._hide(element);\n",
       "      this.charts[chartId] = this.charts[chartId].then((chart) => {\n",
       "        console.log(chart[chartProperty]);\n",
       "        return chart;\n",
       "      });\n",
       "    }\n",
       "\n",
       "    control(element, method, prevId, lastId, ...params) {\n",
       "      if (IpyVizzu.nbconvert) IpyVizzu._hide(element);\n",
       "      this.controls[prevId].then(() => {\n",
       "        this.controls[lastId].activated.then((control) => {\n",
       "          if (method === \"seek\") {\n",
       "            const value = params[0];\n",
       "            control[method](value);\n",
       "            return;\n",
       "          }\n",
       "          if (method === \"store\") {\n",
       "            const id = params[0];\n",
       "            this.storage[id] = control[method]();\n",
       "            return;\n",
       "          }\n",
       "          control[method]();\n",
       "        });\n",
       "      });\n",
       "    }\n",
       "\n",
       "    _moveHere(chartId, element) {\n",
       "      if (IpyVizzu.nbconvert)\n",
       "        IpyVizzu._display(this.elements[chartId], element);\n",
       "      element.append(this.elements[chartId]);\n",
       "    }\n",
       "\n",
       "    _scroll(chartId, enabled) {\n",
       "      if (!IpyVizzu.inhibitScroll && enabled) {\n",
       "        this.elements[chartId].scrollIntoView({\n",
       "          behavior: \"auto\",\n",
       "          block: \"center\",\n",
       "        });\n",
       "      }\n",
       "    }\n",
       "\n",
       "    static _hide(element) {\n",
       "      document.getElementById(\n",
       "        element.selector.substring(1)\n",
       "      ).parentNode.style.display = \"none\";\n",
       "    }\n",
       "\n",
       "    static _display(prevElement, element) {\n",
       "      if (prevElement.parentNode) {\n",
       "        prevElement.parentNode.style.display = \"none\";\n",
       "      }\n",
       "      document.getElementById(\n",
       "        element.selector.substring(1)\n",
       "      ).parentNode.style.display = \"flex\";\n",
       "      document.getElementById(\n",
       "        element.selector.substring(1)\n",
       "      ).parentNode.style.margin = \"auto\";\n",
       "    }\n",
       "  }\n",
       "\n",
       "  window.IpyVizzu = IpyVizzu;\n",
       "  window.ipyvizzu = new window.IpyVizzu();\n",
       "}\n"
      ]
     },
     "metadata": {},
     "output_type": "display_data"
    },
    {
     "data": {
      "application/javascript": [
       "window.ipyvizzu.createChart(element, '4c59430', 'https://cdn.jsdelivr.net/npm/vizzu@0.7/dist/vizzu.min.js', '800px', '480px');"
      ]
     },
     "metadata": {},
     "output_type": "display_data"
    },
    {
     "data": {
      "application/javascript": [
       "window.ipyvizzu.animate(element, '4c59430', 'b0b4b91', 'end', false, lib => { return {\"data\": {\"series\": [{\"name\": \"Unnamed: 0\", \"type\": \"measure\", \"values\": [1.0, 2.0, 3.0, 4.0, 5.0, 6.0, 7.0, 8.0, 9.0, 10.0, 11.0, 12.0, 13.0, 14.0, 15.0, 16.0, 17.0, 18.0, 19.0, 20.0, 21.0, 22.0, 23.0, 24.0, 25.0, 26.0, 27.0, 28.0, 29.0, 30.0, 31.0, 32.0, 33.0, 34.0, 35.0, 36.0, 37.0, 38.0, 39.0, 40.0, 41.0, 42.0, 43.0, 44.0, 45.0, 46.0, 47.0, 48.0, 49.0, 50.0, 51.0, 52.0, 53.0, 54.0, 55.0, 56.0, 57.0, 58.0, 59.0, 60.0, 61.0, 62.0, 63.0, 64.0, 65.0, 66.0, 67.0, 68.0, 69.0, 70.0, 71.0, 72.0, 73.0, 74.0, 75.0, 76.0, 77.0, 78.0, 79.0, 80.0, 81.0, 82.0, 83.0, 84.0, 85.0, 86.0, 87.0, 88.0, 89.0, 90.0, 91.0, 92.0, 93.0, 94.0, 95.0, 96.0, 97.0, 98.0, 99.0, 100.0, 101.0, 102.0, 103.0, 104.0, 105.0, 106.0, 107.0, 108.0, 109.0, 110.0, 111.0, 112.0, 113.0, 114.0, 115.0, 116.0, 117.0, 118.0, 119.0, 120.0, 121.0, 122.0, 123.0, 124.0, 125.0, 126.0, 127.0, 128.0, 129.0, 130.0, 131.0, 132.0, 133.0, 134.0, 135.0, 136.0, 137.0, 138.0, 139.0, 140.0, 141.0, 142.0, 143.0, 144.0, 145.0, 146.0, 147.0, 148.0, 149.0, 150.0, 151.0, 152.0, 153.0, 154.0, 155.0, 156.0, 157.0, 158.0, 159.0, 160.0, 161.0, 162.0, 163.0, 164.0, 165.0, 166.0, 167.0, 168.0, 169.0, 170.0, 171.0, 172.0, 173.0, 174.0, 175.0, 176.0, 177.0, 178.0, 179.0, 180.0, 181.0, 182.0, 183.0, 184.0, 185.0, 186.0, 187.0, 188.0, 189.0, 190.0, 191.0, 192.0, 193.0, 194.0, 195.0, 196.0, 197.0, 198.0, 199.0, 200.0, 201.0, 202.0, 203.0, 204.0, 205.0, 206.0, 207.0, 208.0, 209.0, 210.0, 211.0, 212.0, 213.0, 214.0, 215.0, 216.0, 217.0, 218.0, 219.0, 220.0, 221.0, 222.0, 223.0, 224.0, 225.0, 226.0, 227.0, 228.0, 229.0, 230.0, 231.0, 232.0, 233.0, 234.0, 235.0, 236.0, 237.0, 238.0, 239.0, 240.0, 241.0, 242.0, 243.0, 244.0, 245.0, 246.0, 247.0, 248.0, 249.0, 250.0, 251.0, 252.0, 253.0, 254.0, 255.0, 256.0, 257.0, 258.0, 259.0, 260.0, 261.0, 262.0, 263.0, 264.0, 265.0, 266.0, 267.0, 268.0, 269.0, 270.0, 271.0, 272.0, 273.0, 274.0, 275.0, 276.0, 277.0, 278.0, 279.0, 280.0, 281.0, 282.0, 283.0, 284.0, 285.0, 286.0, 287.0, 288.0, 289.0, 290.0, 291.0, 292.0, 293.0, 294.0, 295.0, 296.0, 297.0, 298.0, 299.0, 300.0, 301.0, 302.0, 303.0, 304.0, 305.0, 306.0, 307.0, 308.0, 309.0, 310.0, 311.0, 312.0, 313.0, 314.0, 315.0, 316.0, 317.0, 318.0, 319.0, 320.0, 321.0, 322.0, 323.0, 324.0, 325.0, 326.0, 327.0, 328.0, 329.0, 330.0, 331.0, 332.0, 333.0, 334.0, 335.0, 336.0, 337.0, 338.0, 339.0, 340.0, 341.0, 342.0, 343.0, 344.0, 345.0, 346.0, 347.0, 348.0, 349.0, 350.0, 351.0, 352.0, 353.0, 354.0, 355.0, 356.0, 357.0, 358.0, 359.0, 360.0, 361.0, 362.0, 363.0, 364.0, 365.0, 366.0]}, {\"name\": \"Country Name\", \"type\": \"dimension\", \"values\": [\"Fiji\", \"Fiji\", \"Fiji\", \"Fiji\", \"Fiji\", \"Fiji\", \"Fiji\", \"Fiji\", \"Fiji\", \"Fiji\", \"Fiji\", \"Fiji\", \"Fiji\", \"Fiji\", \"Fiji\", \"Fiji\", \"Fiji\", \"Fiji\", \"Fiji\", \"Fiji\", \"Fiji\", \"Fiji\", \"Fiji\", \"Fiji\", \"Fiji\", \"Fiji\", \"Fiji\", \"Fiji\", \"Fiji\", \"Fiji\", \"Fiji\", \"Fiji\", \"Fiji\", \"Fiji\", \"Fiji\", \"Fiji\", \"Fiji\", \"Fiji\", \"Fiji\", \"Fiji\", \"Fiji\", \"Fiji\", \"Fiji\", \"Fiji\", \"Fiji\", \"Fiji\", \"Fiji\", \"Fiji\", \"Fiji\", \"Fiji\", \"Fiji\", \"Fiji\", \"Fiji\", \"Fiji\", \"Fiji\", \"Fiji\", \"Fiji\", \"Fiji\", \"Fiji\", \"Fiji\", \"Fiji\", \"PNG\", \"PNG\", \"PNG\", \"PNG\", \"PNG\", \"PNG\", \"PNG\", \"PNG\", \"PNG\", \"PNG\", \"PNG\", \"PNG\", \"PNG\", \"PNG\", \"PNG\", \"PNG\", \"PNG\", \"PNG\", \"PNG\", \"PNG\", \"PNG\", \"PNG\", \"PNG\", \"PNG\", \"PNG\", \"PNG\", \"PNG\", \"PNG\", \"PNG\", \"PNG\", \"PNG\", \"PNG\", \"PNG\", \"PNG\", \"PNG\", \"PNG\", \"PNG\", \"PNG\", \"PNG\", \"PNG\", \"PNG\", \"PNG\", \"PNG\", \"PNG\", \"PNG\", \"PNG\", \"PNG\", \"PNG\", \"PNG\", \"PNG\", \"PNG\", \"PNG\", \"PNG\", \"PNG\", \"PNG\", \"PNG\", \"PNG\", \"PNG\", \"PNG\", \"PNG\", \"PNG\", \"Solomon Islands\", \"Solomon Islands\", \"Solomon Islands\", \"Solomon Islands\", \"Solomon Islands\", \"Solomon Islands\", \"Solomon Islands\", \"Solomon Islands\", \"Solomon Islands\", \"Solomon Islands\", \"Solomon Islands\", \"Solomon Islands\", \"Solomon Islands\", \"Solomon Islands\", \"Solomon Islands\", \"Solomon Islands\", \"Solomon Islands\", \"Solomon Islands\", \"Solomon Islands\", \"Solomon Islands\", \"Solomon Islands\", \"Solomon Islands\", \"Solomon Islands\", \"Solomon Islands\", \"Solomon Islands\", \"Solomon Islands\", \"Solomon Islands\", \"Solomon Islands\", \"Solomon Islands\", \"Solomon Islands\", \"Solomon Islands\", \"Solomon Islands\", \"Solomon Islands\", \"Solomon Islands\", \"Solomon Islands\", \"Solomon Islands\", \"Solomon Islands\", \"Solomon Islands\", \"Solomon Islands\", \"Solomon Islands\", \"Solomon Islands\", \"Solomon Islands\", \"Solomon Islands\", \"Solomon Islands\", \"Solomon Islands\", \"Solomon Islands\", \"Solomon Islands\", \"Solomon Islands\", \"Solomon Islands\", \"Solomon Islands\", \"Solomon Islands\", \"Solomon Islands\", \"Solomon Islands\", \"Solomon Islands\", \"Solomon Islands\", \"Solomon Islands\", \"Solomon Islands\", \"Solomon Islands\", \"Solomon Islands\", \"Solomon Islands\", \"Solomon Islands\", \"Tonga\", \"Tonga\", \"Tonga\", \"Tonga\", \"Tonga\", \"Tonga\", \"Tonga\", \"Tonga\", \"Tonga\", \"Tonga\", \"Tonga\", \"Tonga\", \"Tonga\", \"Tonga\", \"Tonga\", \"Tonga\", \"Tonga\", \"Tonga\", \"Tonga\", \"Tonga\", \"Tonga\", \"Tonga\", \"Tonga\", \"Tonga\", \"Tonga\", \"Tonga\", \"Tonga\", \"Tonga\", \"Tonga\", \"Tonga\", \"Tonga\", \"Tonga\", \"Tonga\", \"Tonga\", \"Tonga\", \"Tonga\", \"Tonga\", \"Tonga\", \"Tonga\", \"Tonga\", \"Tonga\", \"Tonga\", \"Tonga\", \"Tonga\", \"Tonga\", \"Tonga\", \"Tonga\", \"Tonga\", \"Tonga\", \"Tonga\", \"Tonga\", \"Tonga\", \"Tonga\", \"Tonga\", \"Tonga\", \"Tonga\", \"Tonga\", \"Tonga\", \"Tonga\", \"Tonga\", \"Tonga\", \"Vanuatu\", \"Vanuatu\", \"Vanuatu\", \"Vanuatu\", \"Vanuatu\", \"Vanuatu\", \"Vanuatu\", \"Vanuatu\", \"Vanuatu\", \"Vanuatu\", \"Vanuatu\", \"Vanuatu\", \"Vanuatu\", \"Vanuatu\", \"Vanuatu\", \"Vanuatu\", \"Vanuatu\", \"Vanuatu\", \"Vanuatu\", \"Vanuatu\", \"Vanuatu\", \"Vanuatu\", \"Vanuatu\", \"Vanuatu\", \"Vanuatu\", \"Vanuatu\", \"Vanuatu\", \"Vanuatu\", \"Vanuatu\", \"Vanuatu\", \"Vanuatu\", \"Vanuatu\", \"Vanuatu\", \"Vanuatu\", \"Vanuatu\", \"Vanuatu\", \"Vanuatu\", \"Vanuatu\", \"Vanuatu\", \"Vanuatu\", \"Vanuatu\", \"Vanuatu\", \"Vanuatu\", \"Vanuatu\", \"Vanuatu\", \"Vanuatu\", \"Vanuatu\", \"Vanuatu\", \"Vanuatu\", \"Vanuatu\", \"Vanuatu\", \"Vanuatu\", \"Vanuatu\", \"Vanuatu\", \"Vanuatu\", \"Vanuatu\", \"Vanuatu\", \"Vanuatu\", \"Vanuatu\", \"Vanuatu\", \"Vanuatu\", \"Samoa\", \"Samoa\", \"Samoa\", \"Samoa\", \"Samoa\", \"Samoa\", \"Samoa\", \"Samoa\", \"Samoa\", \"Samoa\", \"Samoa\", \"Samoa\", \"Samoa\", \"Samoa\", \"Samoa\", \"Samoa\", \"Samoa\", \"Samoa\", \"Samoa\", \"Samoa\", \"Samoa\", \"Samoa\", \"Samoa\", \"Samoa\", \"Samoa\", \"Samoa\", \"Samoa\", \"Samoa\", \"Samoa\", \"Samoa\", \"Samoa\", \"Samoa\", \"Samoa\", \"Samoa\", \"Samoa\", \"Samoa\", \"Samoa\", \"Samoa\", \"Samoa\", \"Samoa\", \"Samoa\", \"Samoa\", \"Samoa\", \"Samoa\", \"Samoa\", \"Samoa\", \"Samoa\", \"Samoa\", \"Samoa\", \"Samoa\", \"Samoa\", \"Samoa\", \"Samoa\", \"Samoa\", \"Samoa\", \"Samoa\", \"Samoa\", \"Samoa\", \"Samoa\", \"Samoa\", \"Samoa\"]}, {\"name\": \"years\", \"type\": \"dimension\", \"values\": [\"1961\", \"1962\", \"1963\", \"1964\", \"1965\", \"1966\", \"1967\", \"1968\", \"1969\", \"1970\", \"1971\", \"1972\", \"1973\", \"1974\", \"1975\", \"1976\", \"1977\", \"1978\", \"1979\", \"1980\", \"1981\", \"1982\", \"1983\", \"1984\", \"1985\", \"1986\", \"1987\", \"1988\", \"1989\", \"1990\", \"1991\", \"1992\", \"1993\", \"1994\", \"1995\", \"1996\", \"1997\", \"1998\", \"1999\", \"2000\", \"2001\", \"2002\", \"2003\", \"2004\", \"2005\", \"2006\", \"2007\", \"2008\", \"2009\", \"2010\", \"2011\", \"2012\", \"2013\", \"2014\", \"2015\", \"2016\", \"2017\", \"2018\", \"2019\", \"2020\", \"2021\", \"1961\", \"1962\", \"1963\", \"1964\", \"1965\", \"1966\", \"1967\", \"1968\", \"1969\", \"1970\", \"1971\", \"1972\", \"1973\", \"1974\", \"1975\", \"1976\", \"1977\", \"1978\", \"1979\", \"1980\", \"1981\", \"1982\", \"1983\", \"1984\", \"1985\", \"1986\", \"1987\", \"1988\", \"1989\", \"1990\", \"1991\", \"1992\", \"1993\", \"1994\", \"1995\", \"1996\", \"1997\", \"1998\", \"1999\", \"2000\", \"2001\", \"2002\", \"2003\", \"2004\", \"2005\", \"2006\", \"2007\", \"2008\", \"2009\", \"2010\", \"2011\", \"2012\", \"2013\", \"2014\", \"2015\", \"2016\", \"2017\", \"2018\", \"2019\", \"2020\", \"2021\", \"1961\", \"1962\", \"1963\", \"1964\", \"1965\", \"1966\", \"1967\", \"1968\", \"1969\", \"1970\", \"1971\", \"1972\", \"1973\", \"1974\", \"1975\", \"1976\", \"1977\", \"1978\", \"1979\", \"1980\", \"1981\", \"1982\", \"1983\", \"1984\", \"1985\", \"1986\", \"1987\", \"1988\", \"1989\", \"1990\", \"1991\", \"1992\", \"1993\", \"1994\", \"1995\", \"1996\", \"1997\", \"1998\", \"1999\", \"2000\", \"2001\", \"2002\", \"2003\", \"2004\", \"2005\", \"2006\", \"2007\", \"2008\", \"2009\", \"2010\", \"2011\", \"2012\", \"2013\", \"2014\", \"2015\", \"2016\", \"2017\", \"2018\", \"2019\", \"2020\", \"2021\", \"1961\", \"1962\", \"1963\", \"1964\", \"1965\", \"1966\", \"1967\", \"1968\", \"1969\", \"1970\", \"1971\", \"1972\", \"1973\", \"1974\", \"1975\", \"1976\", \"1977\", \"1978\", \"1979\", \"1980\", \"1981\", \"1982\", \"1983\", \"1984\", \"1985\", \"1986\", \"1987\", \"1988\", \"1989\", \"1990\", \"1991\", \"1992\", \"1993\", \"1994\", \"1995\", \"1996\", \"1997\", \"1998\", \"1999\", \"2000\", \"2001\", \"2002\", \"2003\", \"2004\", \"2005\", \"2006\", \"2007\", \"2008\", \"2009\", \"2010\", \"2011\", \"2012\", \"2013\", \"2014\", \"2015\", \"2016\", \"2017\", \"2018\", \"2019\", \"2020\", \"2021\", \"1961\", \"1962\", \"1963\", \"1964\", \"1965\", \"1966\", \"1967\", \"1968\", \"1969\", \"1970\", \"1971\", \"1972\", \"1973\", \"1974\", \"1975\", \"1976\", \"1977\", \"1978\", \"1979\", \"1980\", \"1981\", \"1982\", \"1983\", \"1984\", \"1985\", \"1986\", \"1987\", \"1988\", \"1989\", \"1990\", \"1991\", \"1992\", \"1993\", \"1994\", \"1995\", \"1996\", \"1997\", \"1998\", \"1999\", \"2000\", \"2001\", \"2002\", \"2003\", \"2004\", \"2005\", \"2006\", \"2007\", \"2008\", \"2009\", \"2010\", \"2011\", \"2012\", \"2013\", \"2014\", \"2015\", \"2016\", \"2017\", \"2018\", \"2019\", \"2020\", \"2021\", \"1961\", \"1962\", \"1963\", \"1964\", \"1965\", \"1966\", \"1967\", \"1968\", \"1969\", \"1970\", \"1971\", \"1972\", \"1973\", \"1974\", \"1975\", \"1976\", \"1977\", \"1978\", \"1979\", \"1980\", \"1981\", \"1982\", \"1983\", \"1984\", \"1985\", \"1986\", \"1987\", \"1988\", \"1989\", \"1990\", \"1991\", \"1992\", \"1993\", \"1994\", \"1995\", \"1996\", \"1997\", \"1998\", \"1999\", \"2000\", \"2001\", \"2002\", \"2003\", \"2004\", \"2005\", \"2006\", \"2007\", \"2008\", \"2009\", \"2010\", \"2011\", \"2012\", \"2013\", \"2014\", \"2015\", \"2016\", \"2017\", \"2018\", \"2019\", \"2020\", \"2021\"]}, {\"name\": \"growth_rate\", \"type\": \"measure\", \"values\": [3.1098509758004, 3.12553269779522, 3.15071857358442, 3.08501275877978, 2.9856452129641, 2.80624867654198, 2.51274747948943, 2.26811147090461, 2.14548604213848, 2.04528346551456, 1.94556986353039, 1.82670805532957, 1.68775643327703, 1.61137046530022, 1.66504153096409, 1.85877646358817, 2.13888629021089, 2.36172243321419, 2.45458893491966, 2.46949784674888, 2.45918804888992, 2.44286020771579, 2.42628058798333, 2.41694657402892, 2.35055904777605, 2.06752532908356, 1.61880236236793, 1.2628298852371, 1.08440864512957, 0.994899825536046, 0.562463230476735, 0.257938885422665, 0.296816893960149, 0.203164498258415, 0.182306473098269, 0.540288729079706, 1.00356220718326, 1.15847943080594, 1.15735741455603, 1.09752051437681, 1.05280543999033, 1.01360189605196, 0.985257329508455, 0.972529404319471, 0.94499091797119, 0.928331143605677, 0.853009376352656, 0.680664088099223, 0.517432196093315, 0.419141607071656, 0.351360475814814, 0.297238780271001, 0.262426487072664, 0.230397589525045, 0.178965105930181, 0.127589742794731, 0.0705348376627642, -0.0025026999236921, -0.0577971466911964, 0.212846220439299, 0.45397664568484, 2.48716112748639, 2.27728810106676, 2.21577882578914, 2.14600380568892, 2.12711031805335, 2.19482078105828, 2.2271479736908, 2.24398374230985, 2.31232882673833, 2.36341181456913, 2.39199682291101, 2.37936889767955, 2.32627618285015, 2.2633280112203, 2.21251749459205, 2.17253685235323, 2.13867935178094, 2.10393134737699, 2.0691900659496, 2.04624584112729, 2.04936800195646, 2.06714159406125, 2.09255585473102, 2.12007026512604, 2.14354523380954, 2.16168101808063, 2.1740062941715, 2.17887920258063, 2.26940661326066, 2.64424606515874, 3.20861357357665, 3.58442578343694, 3.67719965352654, 3.66278702808236, 3.63389307724082, 3.60494215869651, 3.58211946279432, 3.53309876155072, 3.49089390798656, 3.4521329401203, 3.39455509979259, 3.34955956126701, 3.31123407239589, 3.26552943968256, 3.2156031499028, 3.17128786595142, 3.12366111372057, 3.08611399149295, 3.0478162226257, 3.00352670267458, 2.90298961470657, 2.77799045268741, 2.69288253584226, 2.61569523033674, 2.54320066295637, 2.46859434505795, 2.39411255967524, 2.325313321969, 2.26018781066996, 2.14763227357632, 2.02856054038959, 2.47218570595133, 2.50812688252628, 2.54063933342381, 2.57054280877405, 2.59857351872816, 2.61831386165055, 2.63546367023201, 2.66113837008697, 2.66343834241463, 2.59896468109893, 2.53143364190133, 2.56849894141112, 2.67990390392211, 2.8178162778151, 2.922199270895, 3.09975431451856, 3.30139327889042, 3.38441855715898, 3.42076557974632, 3.43136564624015, 3.43212899936186, 3.42378237174167, 3.41552657412919, 3.4046617005856, 3.3925439742175, 3.32450318674489, 3.19724741732398, 3.09392231420842, 3.0430367091376, 3.00963173855987, 2.97261157298081, 2.94001714344113, 2.91423799736402, 2.90004472934947, 2.88896302293146, 2.85862109614102, 2.80461073747403, 2.75602860829703, 2.67948065791714, 2.53167345846883, 2.39380068808573, 2.3262995615241, 2.29314328165436, 2.26568934347868, 2.24285314785611, 2.24291000270575, 2.2422684243981, 2.23050143791026, 2.26712423337321, 2.35185573397427, 2.43624466471624, 2.50431283407337, 2.5393320797232, 2.54476579755385, 2.52650758971794, 2.48924408661005, 2.44276679046656, 2.39710667907408, 2.36010120913781, 2.3713876123354, 2.3817422996453, 2.86968141880123, 2.83726118876952, 2.83525747834958, 2.82329051835034, 2.79597929982548, 2.67732527000584, 2.39116389511931, 2.06480043037089, 1.86080048358341, 1.73434639804869, 1.62858841825591, 1.54761835676488, 1.48541250020156, 1.52890426285687, 1.58507556184004, 1.53295499700975, 0.970820339769971, 0.395681347590009, 0.289519900469148, 0.209094655248882, 0.142595888882294, 0.0877297155510589, 0.0515697853749123, 0.0422673882469883, 0.0340071212127486, 0.0236950957411873, 0.322929267110215, 0.560076413762006, 0.448253075872916, 0.353109861283759, 0.28623898736679, 0.25218150248715, 0.233456876278729, 0.239932251452116, 0.24635980974319, 0.217812767207215, 0.461034507923036, 0.678217063982799, 0.628552419810384, 0.607084495200795, 0.58985755025645, 0.573875805693953, 0.582095066723764, 0.597769223628224, 0.566767391590509, 0.525911996154802, 0.420997859015547, 0.275319741267334, 0.198060566623799, 0.222815868287058, 0.212099021808403, -0.101342093995982, -0.384918761668145, -0.43328799977302, -0.473800875069268, -0.391825983174624, -0.276617487700869, -0.251703882324793, -0.18943275806294, 0.28829020228429, 0.722298202056167, 2.82921136324237, 2.86108812610165, 2.89520261401294, 2.92967423110767, 2.96821409935916, 2.99187344471501, 3.02859518503964, 3.0680337728423, 3.09176384973428, 3.11516766234039, 3.14139452708407, 3.16877945267114, 3.18542226484042, 3.19139369950453, 3.20744626380448, 3.21318593858156, 3.2023660271752, 3.09229269597454, 2.77696733504822, 2.40868175843754, 2.28504397109987, 2.33910147444407, 2.391417441974, 2.43956357565196, 2.46864151471551, 2.4993233647156, 2.50913888243049, 2.52020506201702, 2.51329837597011, 2.48349524878471, 2.48474623710383, 2.48947430333076, 2.4733062998753, 2.43822620989284, 2.40363676937333, 2.37583787471536, 2.35145243344103, 2.3302035933403, 2.34492013889799, 2.44646014761845, 2.54955882382133, 2.55100152185343, 2.50780760969082, 2.46104681641835, 2.42307008348654, 2.40208573602407, 2.40312228258581, 2.42583229315783, 2.42262835797189, 2.37632331873076, 2.35180855409793, 2.36696742718214, 2.38891492248033, 2.39691601558107, 2.38350122826717, 2.42303547677723, 2.44878023745694, 2.40302812734935, 2.36207637358082, 2.36372959142916, 2.3627415254938, 3.02862538958433, 2.821486580305, 2.6711608294425, 2.53295567971029, 2.50197354094113, 2.4258605894518, 2.06610308598544, 1.75393133152092, 1.65323871231976, 1.63405559402733, 1.59330763025193, 1.55135192431588, 1.51896197738873, 1.75800596191235, 1.96622302298614, 1.8334969061873, 1.3978337355043, 1.00884987800188, 0.92234513718705, 0.862384072622116, 0.776216162664987, 0.417324031327844, 0.0353474387272057, -0.0988844121891011, -0.157217640755535, -0.0913236585721122, 0.244943659379074, 0.406313671412085, 0.258843460816501, 0.178533218884814, 0.30574073868909, 0.648746736176714, 0.916289338813238, 1.0131622450568, 1.03159166478529, 1.03011305788199, 1.03025209235978, 1.02639870453636, 1.00719006069827, 0.981387870498847, 0.82373591140834, 0.591145315625182, 0.433074700450214, 0.337139113464018, 0.293603326396777, 0.39840795546279, 0.578640418070375, 0.684867888236991, 0.721630924369264, 0.771440058555094, 0.858778291222582, 0.898922334287627, 0.911922272588174, 0.905168292851843, 0.895083542746833, 0.964528455768062, 1.00975265821375, 0.992505709183727, 1.04553544180183, 1.41696799990075, 1.76857821590665]}]}, \"style\": {\"plot\": {\"paddingLeft\": 100, \"paddingTop\": 25, \"yAxis\": {\"color\": \"#ffffff00\", \"label\": {\"paddingRight\": 10}}, \"xAxis\": {\"title\": {\"color\": \"#ffffff00\"}, \"label\": {\"color\": \"#ffffff00\", \"numberFormat\": \"grouped\"}}, \"marker\": {\"colorPalette\": \"#b74c20FF #c47f58FF #1c9761FF #ea4549FF #875792FF #3562b6FF #ee7c34FF #efae3aFF\"}}}} }, undefined);"
      ]
     },
     "metadata": {},
     "output_type": "display_data"
    },
    {
     "data": {
      "application/javascript": [
       "window.ipyvizzu.animate(element, '4c59430', '4b56032', 'end', false, lib => { return {\"data\": {\"filter\": record => { return (parseInt(record.years) == 1961) }}, \"config\": {\"channels\": {\"y\": {\"set\": [\"Country Name\"]}, \"x\": {\"set\": [\"growth_rate\"]}, \"label\": {\"set\": [\"growth_rate\"]}, \"color\": {\"set\": [\"Country Name\"]}}, \"sort\": \"byValue\", \"title\": \"Population Growth Rate 1961\"}} }, {\"duration\": 1, \"x\": {\"easing\": \"linear\", \"delay\": 0}, \"y\": {\"delay\": 0}, \"show\": {\"delay\": 0}, \"hide\": {\"delay\": 0}, \"title\": {\"duration\": 0, \"delay\": 0}});"
      ]
     },
     "metadata": {},
     "output_type": "display_data"
    },
    {
     "data": {
      "application/javascript": [
       "window.ipyvizzu.animate(element, '4c59430', 'dbc7a01', 'end', false, lib => { return {\"data\": {\"filter\": record => { return (parseInt(record.years) == 1962) }}, \"config\": {\"channels\": {\"y\": {\"set\": [\"Country Name\"]}, \"x\": {\"set\": [\"growth_rate\"]}, \"label\": {\"set\": [\"growth_rate\"]}, \"color\": {\"set\": [\"Country Name\"]}}, \"sort\": \"byValue\", \"title\": \"Population Growth Rate 1962\"}} }, {\"duration\": 1, \"x\": {\"easing\": \"linear\", \"delay\": 0}, \"y\": {\"delay\": 0}, \"show\": {\"delay\": 0}, \"hide\": {\"delay\": 0}, \"title\": {\"duration\": 0, \"delay\": 0}});"
      ]
     },
     "metadata": {},
     "output_type": "display_data"
    },
    {
     "data": {
      "application/javascript": [
       "window.ipyvizzu.animate(element, '4c59430', '5daccb5', 'end', false, lib => { return {\"data\": {\"filter\": record => { return (parseInt(record.years) == 1963) }}, \"config\": {\"channels\": {\"y\": {\"set\": [\"Country Name\"]}, \"x\": {\"set\": [\"growth_rate\"]}, \"label\": {\"set\": [\"growth_rate\"]}, \"color\": {\"set\": [\"Country Name\"]}}, \"sort\": \"byValue\", \"title\": \"Population Growth Rate 1963\"}} }, {\"duration\": 1, \"x\": {\"easing\": \"linear\", \"delay\": 0}, \"y\": {\"delay\": 0}, \"show\": {\"delay\": 0}, \"hide\": {\"delay\": 0}, \"title\": {\"duration\": 0, \"delay\": 0}});"
      ]
     },
     "metadata": {},
     "output_type": "display_data"
    },
    {
     "data": {
      "application/javascript": [
       "window.ipyvizzu.animate(element, '4c59430', '6df53c7', 'end', false, lib => { return {\"data\": {\"filter\": record => { return (parseInt(record.years) == 1964) }}, \"config\": {\"channels\": {\"y\": {\"set\": [\"Country Name\"]}, \"x\": {\"set\": [\"growth_rate\"]}, \"label\": {\"set\": [\"growth_rate\"]}, \"color\": {\"set\": [\"Country Name\"]}}, \"sort\": \"byValue\", \"title\": \"Population Growth Rate 1964\"}} }, {\"duration\": 1, \"x\": {\"easing\": \"linear\", \"delay\": 0}, \"y\": {\"delay\": 0}, \"show\": {\"delay\": 0}, \"hide\": {\"delay\": 0}, \"title\": {\"duration\": 0, \"delay\": 0}});"
      ]
     },
     "metadata": {},
     "output_type": "display_data"
    },
    {
     "data": {
      "application/javascript": [
       "window.ipyvizzu.animate(element, '4c59430', 'ee2fb06', 'end', false, lib => { return {\"data\": {\"filter\": record => { return (parseInt(record.years) == 1965) }}, \"config\": {\"channels\": {\"y\": {\"set\": [\"Country Name\"]}, \"x\": {\"set\": [\"growth_rate\"]}, \"label\": {\"set\": [\"growth_rate\"]}, \"color\": {\"set\": [\"Country Name\"]}}, \"sort\": \"byValue\", \"title\": \"Population Growth Rate 1965\"}} }, {\"duration\": 1, \"x\": {\"easing\": \"linear\", \"delay\": 0}, \"y\": {\"delay\": 0}, \"show\": {\"delay\": 0}, \"hide\": {\"delay\": 0}, \"title\": {\"duration\": 0, \"delay\": 0}});"
      ]
     },
     "metadata": {},
     "output_type": "display_data"
    },
    {
     "data": {
      "application/javascript": [
       "window.ipyvizzu.animate(element, '4c59430', 'a51b98d', 'end', false, lib => { return {\"data\": {\"filter\": record => { return (parseInt(record.years) == 1966) }}, \"config\": {\"channels\": {\"y\": {\"set\": [\"Country Name\"]}, \"x\": {\"set\": [\"growth_rate\"]}, \"label\": {\"set\": [\"growth_rate\"]}, \"color\": {\"set\": [\"Country Name\"]}}, \"sort\": \"byValue\", \"title\": \"Population Growth Rate 1966\"}} }, {\"duration\": 1, \"x\": {\"easing\": \"linear\", \"delay\": 0}, \"y\": {\"delay\": 0}, \"show\": {\"delay\": 0}, \"hide\": {\"delay\": 0}, \"title\": {\"duration\": 0, \"delay\": 0}});"
      ]
     },
     "metadata": {},
     "output_type": "display_data"
    },
    {
     "data": {
      "application/javascript": [
       "window.ipyvizzu.animate(element, '4c59430', 'b662a33', 'end', false, lib => { return {\"data\": {\"filter\": record => { return (parseInt(record.years) == 1967) }}, \"config\": {\"channels\": {\"y\": {\"set\": [\"Country Name\"]}, \"x\": {\"set\": [\"growth_rate\"]}, \"label\": {\"set\": [\"growth_rate\"]}, \"color\": {\"set\": [\"Country Name\"]}}, \"sort\": \"byValue\", \"title\": \"Population Growth Rate 1967\"}} }, {\"duration\": 1, \"x\": {\"easing\": \"linear\", \"delay\": 0}, \"y\": {\"delay\": 0}, \"show\": {\"delay\": 0}, \"hide\": {\"delay\": 0}, \"title\": {\"duration\": 0, \"delay\": 0}});"
      ]
     },
     "metadata": {},
     "output_type": "display_data"
    },
    {
     "data": {
      "application/javascript": [
       "window.ipyvizzu.animate(element, '4c59430', 'ab4a86c', 'end', false, lib => { return {\"data\": {\"filter\": record => { return (parseInt(record.years) == 1968) }}, \"config\": {\"channels\": {\"y\": {\"set\": [\"Country Name\"]}, \"x\": {\"set\": [\"growth_rate\"]}, \"label\": {\"set\": [\"growth_rate\"]}, \"color\": {\"set\": [\"Country Name\"]}}, \"sort\": \"byValue\", \"title\": \"Population Growth Rate 1968\"}} }, {\"duration\": 1, \"x\": {\"easing\": \"linear\", \"delay\": 0}, \"y\": {\"delay\": 0}, \"show\": {\"delay\": 0}, \"hide\": {\"delay\": 0}, \"title\": {\"duration\": 0, \"delay\": 0}});"
      ]
     },
     "metadata": {},
     "output_type": "display_data"
    },
    {
     "data": {
      "application/javascript": [
       "window.ipyvizzu.animate(element, '4c59430', 'e493271', 'end', false, lib => { return {\"data\": {\"filter\": record => { return (parseInt(record.years) == 1969) }}, \"config\": {\"channels\": {\"y\": {\"set\": [\"Country Name\"]}, \"x\": {\"set\": [\"growth_rate\"]}, \"label\": {\"set\": [\"growth_rate\"]}, \"color\": {\"set\": [\"Country Name\"]}}, \"sort\": \"byValue\", \"title\": \"Population Growth Rate 1969\"}} }, {\"duration\": 1, \"x\": {\"easing\": \"linear\", \"delay\": 0}, \"y\": {\"delay\": 0}, \"show\": {\"delay\": 0}, \"hide\": {\"delay\": 0}, \"title\": {\"duration\": 0, \"delay\": 0}});"
      ]
     },
     "metadata": {},
     "output_type": "display_data"
    },
    {
     "data": {
      "application/javascript": [
       "window.ipyvizzu.animate(element, '4c59430', '5040aed', 'end', false, lib => { return {\"data\": {\"filter\": record => { return (parseInt(record.years) == 1970) }}, \"config\": {\"channels\": {\"y\": {\"set\": [\"Country Name\"]}, \"x\": {\"set\": [\"growth_rate\"]}, \"label\": {\"set\": [\"growth_rate\"]}, \"color\": {\"set\": [\"Country Name\"]}}, \"sort\": \"byValue\", \"title\": \"Population Growth Rate 1970\"}} }, {\"duration\": 1, \"x\": {\"easing\": \"linear\", \"delay\": 0}, \"y\": {\"delay\": 0}, \"show\": {\"delay\": 0}, \"hide\": {\"delay\": 0}, \"title\": {\"duration\": 0, \"delay\": 0}});"
      ]
     },
     "metadata": {},
     "output_type": "display_data"
    },
    {
     "data": {
      "application/javascript": [
       "window.ipyvizzu.animate(element, '4c59430', '7d5384b', 'end', false, lib => { return {\"data\": {\"filter\": record => { return (parseInt(record.years) == 1971) }}, \"config\": {\"channels\": {\"y\": {\"set\": [\"Country Name\"]}, \"x\": {\"set\": [\"growth_rate\"]}, \"label\": {\"set\": [\"growth_rate\"]}, \"color\": {\"set\": [\"Country Name\"]}}, \"sort\": \"byValue\", \"title\": \"Population Growth Rate 1971\"}} }, {\"duration\": 1, \"x\": {\"easing\": \"linear\", \"delay\": 0}, \"y\": {\"delay\": 0}, \"show\": {\"delay\": 0}, \"hide\": {\"delay\": 0}, \"title\": {\"duration\": 0, \"delay\": 0}});"
      ]
     },
     "metadata": {},
     "output_type": "display_data"
    },
    {
     "data": {
      "application/javascript": [
       "window.ipyvizzu.animate(element, '4c59430', 'babf949', 'end', false, lib => { return {\"data\": {\"filter\": record => { return (parseInt(record.years) == 1972) }}, \"config\": {\"channels\": {\"y\": {\"set\": [\"Country Name\"]}, \"x\": {\"set\": [\"growth_rate\"]}, \"label\": {\"set\": [\"growth_rate\"]}, \"color\": {\"set\": [\"Country Name\"]}}, \"sort\": \"byValue\", \"title\": \"Population Growth Rate 1972\"}} }, {\"duration\": 1, \"x\": {\"easing\": \"linear\", \"delay\": 0}, \"y\": {\"delay\": 0}, \"show\": {\"delay\": 0}, \"hide\": {\"delay\": 0}, \"title\": {\"duration\": 0, \"delay\": 0}});"
      ]
     },
     "metadata": {},
     "output_type": "display_data"
    },
    {
     "data": {
      "application/javascript": [
       "window.ipyvizzu.animate(element, '4c59430', 'bdb933f', 'end', false, lib => { return {\"data\": {\"filter\": record => { return (parseInt(record.years) == 1973) }}, \"config\": {\"channels\": {\"y\": {\"set\": [\"Country Name\"]}, \"x\": {\"set\": [\"growth_rate\"]}, \"label\": {\"set\": [\"growth_rate\"]}, \"color\": {\"set\": [\"Country Name\"]}}, \"sort\": \"byValue\", \"title\": \"Population Growth Rate 1973\"}} }, {\"duration\": 1, \"x\": {\"easing\": \"linear\", \"delay\": 0}, \"y\": {\"delay\": 0}, \"show\": {\"delay\": 0}, \"hide\": {\"delay\": 0}, \"title\": {\"duration\": 0, \"delay\": 0}});"
      ]
     },
     "metadata": {},
     "output_type": "display_data"
    },
    {
     "data": {
      "application/javascript": [
       "window.ipyvizzu.animate(element, '4c59430', '8b69c79', 'end', false, lib => { return {\"data\": {\"filter\": record => { return (parseInt(record.years) == 1974) }}, \"config\": {\"channels\": {\"y\": {\"set\": [\"Country Name\"]}, \"x\": {\"set\": [\"growth_rate\"]}, \"label\": {\"set\": [\"growth_rate\"]}, \"color\": {\"set\": [\"Country Name\"]}}, \"sort\": \"byValue\", \"title\": \"Population Growth Rate 1974\"}} }, {\"duration\": 1, \"x\": {\"easing\": \"linear\", \"delay\": 0}, \"y\": {\"delay\": 0}, \"show\": {\"delay\": 0}, \"hide\": {\"delay\": 0}, \"title\": {\"duration\": 0, \"delay\": 0}});"
      ]
     },
     "metadata": {},
     "output_type": "display_data"
    },
    {
     "data": {
      "application/javascript": [
       "window.ipyvizzu.animate(element, '4c59430', 'ae59fec', 'end', false, lib => { return {\"data\": {\"filter\": record => { return (parseInt(record.years) == 1975) }}, \"config\": {\"channels\": {\"y\": {\"set\": [\"Country Name\"]}, \"x\": {\"set\": [\"growth_rate\"]}, \"label\": {\"set\": [\"growth_rate\"]}, \"color\": {\"set\": [\"Country Name\"]}}, \"sort\": \"byValue\", \"title\": \"Population Growth Rate 1975\"}} }, {\"duration\": 1, \"x\": {\"easing\": \"linear\", \"delay\": 0}, \"y\": {\"delay\": 0}, \"show\": {\"delay\": 0}, \"hide\": {\"delay\": 0}, \"title\": {\"duration\": 0, \"delay\": 0}});"
      ]
     },
     "metadata": {},
     "output_type": "display_data"
    },
    {
     "data": {
      "application/javascript": [
       "window.ipyvizzu.animate(element, '4c59430', '2b82ab8', 'end', false, lib => { return {\"data\": {\"filter\": record => { return (parseInt(record.years) == 1976) }}, \"config\": {\"channels\": {\"y\": {\"set\": [\"Country Name\"]}, \"x\": {\"set\": [\"growth_rate\"]}, \"label\": {\"set\": [\"growth_rate\"]}, \"color\": {\"set\": [\"Country Name\"]}}, \"sort\": \"byValue\", \"title\": \"Population Growth Rate 1976\"}} }, {\"duration\": 1, \"x\": {\"easing\": \"linear\", \"delay\": 0}, \"y\": {\"delay\": 0}, \"show\": {\"delay\": 0}, \"hide\": {\"delay\": 0}, \"title\": {\"duration\": 0, \"delay\": 0}});"
      ]
     },
     "metadata": {},
     "output_type": "display_data"
    },
    {
     "data": {
      "application/javascript": [
       "window.ipyvizzu.animate(element, '4c59430', '52a857c', 'end', false, lib => { return {\"data\": {\"filter\": record => { return (parseInt(record.years) == 1977) }}, \"config\": {\"channels\": {\"y\": {\"set\": [\"Country Name\"]}, \"x\": {\"set\": [\"growth_rate\"]}, \"label\": {\"set\": [\"growth_rate\"]}, \"color\": {\"set\": [\"Country Name\"]}}, \"sort\": \"byValue\", \"title\": \"Population Growth Rate 1977\"}} }, {\"duration\": 1, \"x\": {\"easing\": \"linear\", \"delay\": 0}, \"y\": {\"delay\": 0}, \"show\": {\"delay\": 0}, \"hide\": {\"delay\": 0}, \"title\": {\"duration\": 0, \"delay\": 0}});"
      ]
     },
     "metadata": {},
     "output_type": "display_data"
    },
    {
     "data": {
      "application/javascript": [
       "window.ipyvizzu.animate(element, '4c59430', '293e519', 'end', false, lib => { return {\"data\": {\"filter\": record => { return (parseInt(record.years) == 1978) }}, \"config\": {\"channels\": {\"y\": {\"set\": [\"Country Name\"]}, \"x\": {\"set\": [\"growth_rate\"]}, \"label\": {\"set\": [\"growth_rate\"]}, \"color\": {\"set\": [\"Country Name\"]}}, \"sort\": \"byValue\", \"title\": \"Population Growth Rate 1978\"}} }, {\"duration\": 1, \"x\": {\"easing\": \"linear\", \"delay\": 0}, \"y\": {\"delay\": 0}, \"show\": {\"delay\": 0}, \"hide\": {\"delay\": 0}, \"title\": {\"duration\": 0, \"delay\": 0}});"
      ]
     },
     "metadata": {},
     "output_type": "display_data"
    },
    {
     "data": {
      "application/javascript": [
       "window.ipyvizzu.animate(element, '4c59430', '02752d2', 'end', false, lib => { return {\"data\": {\"filter\": record => { return (parseInt(record.years) == 1979) }}, \"config\": {\"channels\": {\"y\": {\"set\": [\"Country Name\"]}, \"x\": {\"set\": [\"growth_rate\"]}, \"label\": {\"set\": [\"growth_rate\"]}, \"color\": {\"set\": [\"Country Name\"]}}, \"sort\": \"byValue\", \"title\": \"Population Growth Rate 1979\"}} }, {\"duration\": 1, \"x\": {\"easing\": \"linear\", \"delay\": 0}, \"y\": {\"delay\": 0}, \"show\": {\"delay\": 0}, \"hide\": {\"delay\": 0}, \"title\": {\"duration\": 0, \"delay\": 0}});"
      ]
     },
     "metadata": {},
     "output_type": "display_data"
    },
    {
     "data": {
      "application/javascript": [
       "window.ipyvizzu.animate(element, '4c59430', '55d94f1', 'end', false, lib => { return {\"data\": {\"filter\": record => { return (parseInt(record.years) == 1980) }}, \"config\": {\"channels\": {\"y\": {\"set\": [\"Country Name\"]}, \"x\": {\"set\": [\"growth_rate\"]}, \"label\": {\"set\": [\"growth_rate\"]}, \"color\": {\"set\": [\"Country Name\"]}}, \"sort\": \"byValue\", \"title\": \"Population Growth Rate 1980\"}} }, {\"duration\": 1, \"x\": {\"easing\": \"linear\", \"delay\": 0}, \"y\": {\"delay\": 0}, \"show\": {\"delay\": 0}, \"hide\": {\"delay\": 0}, \"title\": {\"duration\": 0, \"delay\": 0}});"
      ]
     },
     "metadata": {},
     "output_type": "display_data"
    },
    {
     "data": {
      "application/javascript": [
       "window.ipyvizzu.animate(element, '4c59430', '6be4fc3', 'end', false, lib => { return {\"data\": {\"filter\": record => { return (parseInt(record.years) == 1981) }}, \"config\": {\"channels\": {\"y\": {\"set\": [\"Country Name\"]}, \"x\": {\"set\": [\"growth_rate\"]}, \"label\": {\"set\": [\"growth_rate\"]}, \"color\": {\"set\": [\"Country Name\"]}}, \"sort\": \"byValue\", \"title\": \"Population Growth Rate 1981\"}} }, {\"duration\": 1, \"x\": {\"easing\": \"linear\", \"delay\": 0}, \"y\": {\"delay\": 0}, \"show\": {\"delay\": 0}, \"hide\": {\"delay\": 0}, \"title\": {\"duration\": 0, \"delay\": 0}});"
      ]
     },
     "metadata": {},
     "output_type": "display_data"
    },
    {
     "data": {
      "application/javascript": [
       "window.ipyvizzu.animate(element, '4c59430', '7baae2d', 'end', false, lib => { return {\"data\": {\"filter\": record => { return (parseInt(record.years) == 1982) }}, \"config\": {\"channels\": {\"y\": {\"set\": [\"Country Name\"]}, \"x\": {\"set\": [\"growth_rate\"]}, \"label\": {\"set\": [\"growth_rate\"]}, \"color\": {\"set\": [\"Country Name\"]}}, \"sort\": \"byValue\", \"title\": \"Population Growth Rate 1982\"}} }, {\"duration\": 1, \"x\": {\"easing\": \"linear\", \"delay\": 0}, \"y\": {\"delay\": 0}, \"show\": {\"delay\": 0}, \"hide\": {\"delay\": 0}, \"title\": {\"duration\": 0, \"delay\": 0}});"
      ]
     },
     "metadata": {},
     "output_type": "display_data"
    },
    {
     "data": {
      "application/javascript": [
       "window.ipyvizzu.animate(element, '4c59430', '14a8542', 'end', false, lib => { return {\"data\": {\"filter\": record => { return (parseInt(record.years) == 1983) }}, \"config\": {\"channels\": {\"y\": {\"set\": [\"Country Name\"]}, \"x\": {\"set\": [\"growth_rate\"]}, \"label\": {\"set\": [\"growth_rate\"]}, \"color\": {\"set\": [\"Country Name\"]}}, \"sort\": \"byValue\", \"title\": \"Population Growth Rate 1983\"}} }, {\"duration\": 1, \"x\": {\"easing\": \"linear\", \"delay\": 0}, \"y\": {\"delay\": 0}, \"show\": {\"delay\": 0}, \"hide\": {\"delay\": 0}, \"title\": {\"duration\": 0, \"delay\": 0}});"
      ]
     },
     "metadata": {},
     "output_type": "display_data"
    },
    {
     "data": {
      "application/javascript": [
       "window.ipyvizzu.animate(element, '4c59430', 'dead34a', 'end', false, lib => { return {\"data\": {\"filter\": record => { return (parseInt(record.years) == 1984) }}, \"config\": {\"channels\": {\"y\": {\"set\": [\"Country Name\"]}, \"x\": {\"set\": [\"growth_rate\"]}, \"label\": {\"set\": [\"growth_rate\"]}, \"color\": {\"set\": [\"Country Name\"]}}, \"sort\": \"byValue\", \"title\": \"Population Growth Rate 1984\"}} }, {\"duration\": 1, \"x\": {\"easing\": \"linear\", \"delay\": 0}, \"y\": {\"delay\": 0}, \"show\": {\"delay\": 0}, \"hide\": {\"delay\": 0}, \"title\": {\"duration\": 0, \"delay\": 0}});"
      ]
     },
     "metadata": {},
     "output_type": "display_data"
    },
    {
     "data": {
      "application/javascript": [
       "window.ipyvizzu.animate(element, '4c59430', 'fed79c6', 'end', false, lib => { return {\"data\": {\"filter\": record => { return (parseInt(record.years) == 1985) }}, \"config\": {\"channels\": {\"y\": {\"set\": [\"Country Name\"]}, \"x\": {\"set\": [\"growth_rate\"]}, \"label\": {\"set\": [\"growth_rate\"]}, \"color\": {\"set\": [\"Country Name\"]}}, \"sort\": \"byValue\", \"title\": \"Population Growth Rate 1985\"}} }, {\"duration\": 1, \"x\": {\"easing\": \"linear\", \"delay\": 0}, \"y\": {\"delay\": 0}, \"show\": {\"delay\": 0}, \"hide\": {\"delay\": 0}, \"title\": {\"duration\": 0, \"delay\": 0}});"
      ]
     },
     "metadata": {},
     "output_type": "display_data"
    },
    {
     "data": {
      "application/javascript": [
       "window.ipyvizzu.animate(element, '4c59430', 'fc8099d', 'end', false, lib => { return {\"data\": {\"filter\": record => { return (parseInt(record.years) == 1986) }}, \"config\": {\"channels\": {\"y\": {\"set\": [\"Country Name\"]}, \"x\": {\"set\": [\"growth_rate\"]}, \"label\": {\"set\": [\"growth_rate\"]}, \"color\": {\"set\": [\"Country Name\"]}}, \"sort\": \"byValue\", \"title\": \"Population Growth Rate 1986\"}} }, {\"duration\": 1, \"x\": {\"easing\": \"linear\", \"delay\": 0}, \"y\": {\"delay\": 0}, \"show\": {\"delay\": 0}, \"hide\": {\"delay\": 0}, \"title\": {\"duration\": 0, \"delay\": 0}});"
      ]
     },
     "metadata": {},
     "output_type": "display_data"
    },
    {
     "data": {
      "application/javascript": [
       "window.ipyvizzu.animate(element, '4c59430', 'a9d5451', 'end', false, lib => { return {\"data\": {\"filter\": record => { return (parseInt(record.years) == 1987) }}, \"config\": {\"channels\": {\"y\": {\"set\": [\"Country Name\"]}, \"x\": {\"set\": [\"growth_rate\"]}, \"label\": {\"set\": [\"growth_rate\"]}, \"color\": {\"set\": [\"Country Name\"]}}, \"sort\": \"byValue\", \"title\": \"Population Growth Rate 1987\"}} }, {\"duration\": 1, \"x\": {\"easing\": \"linear\", \"delay\": 0}, \"y\": {\"delay\": 0}, \"show\": {\"delay\": 0}, \"hide\": {\"delay\": 0}, \"title\": {\"duration\": 0, \"delay\": 0}});"
      ]
     },
     "metadata": {},
     "output_type": "display_data"
    },
    {
     "data": {
      "application/javascript": [
       "window.ipyvizzu.animate(element, '4c59430', 'ce771c1', 'end', false, lib => { return {\"data\": {\"filter\": record => { return (parseInt(record.years) == 1988) }}, \"config\": {\"channels\": {\"y\": {\"set\": [\"Country Name\"]}, \"x\": {\"set\": [\"growth_rate\"]}, \"label\": {\"set\": [\"growth_rate\"]}, \"color\": {\"set\": [\"Country Name\"]}}, \"sort\": \"byValue\", \"title\": \"Population Growth Rate 1988\"}} }, {\"duration\": 1, \"x\": {\"easing\": \"linear\", \"delay\": 0}, \"y\": {\"delay\": 0}, \"show\": {\"delay\": 0}, \"hide\": {\"delay\": 0}, \"title\": {\"duration\": 0, \"delay\": 0}});"
      ]
     },
     "metadata": {},
     "output_type": "display_data"
    },
    {
     "data": {
      "application/javascript": [
       "window.ipyvizzu.animate(element, '4c59430', '2cda313', 'end', false, lib => { return {\"data\": {\"filter\": record => { return (parseInt(record.years) == 1989) }}, \"config\": {\"channels\": {\"y\": {\"set\": [\"Country Name\"]}, \"x\": {\"set\": [\"growth_rate\"]}, \"label\": {\"set\": [\"growth_rate\"]}, \"color\": {\"set\": [\"Country Name\"]}}, \"sort\": \"byValue\", \"title\": \"Population Growth Rate 1989\"}} }, {\"duration\": 1, \"x\": {\"easing\": \"linear\", \"delay\": 0}, \"y\": {\"delay\": 0}, \"show\": {\"delay\": 0}, \"hide\": {\"delay\": 0}, \"title\": {\"duration\": 0, \"delay\": 0}});"
      ]
     },
     "metadata": {},
     "output_type": "display_data"
    },
    {
     "data": {
      "application/javascript": [
       "window.ipyvizzu.animate(element, '4c59430', 'd67262f', 'end', false, lib => { return {\"data\": {\"filter\": record => { return (parseInt(record.years) == 1990) }}, \"config\": {\"channels\": {\"y\": {\"set\": [\"Country Name\"]}, \"x\": {\"set\": [\"growth_rate\"]}, \"label\": {\"set\": [\"growth_rate\"]}, \"color\": {\"set\": [\"Country Name\"]}}, \"sort\": \"byValue\", \"title\": \"Population Growth Rate 1990\"}} }, {\"duration\": 1, \"x\": {\"easing\": \"linear\", \"delay\": 0}, \"y\": {\"delay\": 0}, \"show\": {\"delay\": 0}, \"hide\": {\"delay\": 0}, \"title\": {\"duration\": 0, \"delay\": 0}});"
      ]
     },
     "metadata": {},
     "output_type": "display_data"
    },
    {
     "data": {
      "application/javascript": [
       "window.ipyvizzu.animate(element, '4c59430', 'a36c68e', 'end', false, lib => { return {\"data\": {\"filter\": record => { return (parseInt(record.years) == 1991) }}, \"config\": {\"channels\": {\"y\": {\"set\": [\"Country Name\"]}, \"x\": {\"set\": [\"growth_rate\"]}, \"label\": {\"set\": [\"growth_rate\"]}, \"color\": {\"set\": [\"Country Name\"]}}, \"sort\": \"byValue\", \"title\": \"Population Growth Rate 1991\"}} }, {\"duration\": 1, \"x\": {\"easing\": \"linear\", \"delay\": 0}, \"y\": {\"delay\": 0}, \"show\": {\"delay\": 0}, \"hide\": {\"delay\": 0}, \"title\": {\"duration\": 0, \"delay\": 0}});"
      ]
     },
     "metadata": {},
     "output_type": "display_data"
    },
    {
     "data": {
      "application/javascript": [
       "window.ipyvizzu.animate(element, '4c59430', 'f4ffc8f', 'end', false, lib => { return {\"data\": {\"filter\": record => { return (parseInt(record.years) == 1992) }}, \"config\": {\"channels\": {\"y\": {\"set\": [\"Country Name\"]}, \"x\": {\"set\": [\"growth_rate\"]}, \"label\": {\"set\": [\"growth_rate\"]}, \"color\": {\"set\": [\"Country Name\"]}}, \"sort\": \"byValue\", \"title\": \"Population Growth Rate 1992\"}} }, {\"duration\": 1, \"x\": {\"easing\": \"linear\", \"delay\": 0}, \"y\": {\"delay\": 0}, \"show\": {\"delay\": 0}, \"hide\": {\"delay\": 0}, \"title\": {\"duration\": 0, \"delay\": 0}});"
      ]
     },
     "metadata": {},
     "output_type": "display_data"
    },
    {
     "data": {
      "application/javascript": [
       "window.ipyvizzu.animate(element, '4c59430', '3e38fae', 'end', false, lib => { return {\"data\": {\"filter\": record => { return (parseInt(record.years) == 1993) }}, \"config\": {\"channels\": {\"y\": {\"set\": [\"Country Name\"]}, \"x\": {\"set\": [\"growth_rate\"]}, \"label\": {\"set\": [\"growth_rate\"]}, \"color\": {\"set\": [\"Country Name\"]}}, \"sort\": \"byValue\", \"title\": \"Population Growth Rate 1993\"}} }, {\"duration\": 1, \"x\": {\"easing\": \"linear\", \"delay\": 0}, \"y\": {\"delay\": 0}, \"show\": {\"delay\": 0}, \"hide\": {\"delay\": 0}, \"title\": {\"duration\": 0, \"delay\": 0}});"
      ]
     },
     "metadata": {},
     "output_type": "display_data"
    },
    {
     "data": {
      "application/javascript": [
       "window.ipyvizzu.animate(element, '4c59430', '5def251', 'end', false, lib => { return {\"data\": {\"filter\": record => { return (parseInt(record.years) == 1994) }}, \"config\": {\"channels\": {\"y\": {\"set\": [\"Country Name\"]}, \"x\": {\"set\": [\"growth_rate\"]}, \"label\": {\"set\": [\"growth_rate\"]}, \"color\": {\"set\": [\"Country Name\"]}}, \"sort\": \"byValue\", \"title\": \"Population Growth Rate 1994\"}} }, {\"duration\": 1, \"x\": {\"easing\": \"linear\", \"delay\": 0}, \"y\": {\"delay\": 0}, \"show\": {\"delay\": 0}, \"hide\": {\"delay\": 0}, \"title\": {\"duration\": 0, \"delay\": 0}});"
      ]
     },
     "metadata": {},
     "output_type": "display_data"
    },
    {
     "data": {
      "application/javascript": [
       "window.ipyvizzu.animate(element, '4c59430', '90e2921', 'end', false, lib => { return {\"data\": {\"filter\": record => { return (parseInt(record.years) == 1995) }}, \"config\": {\"channels\": {\"y\": {\"set\": [\"Country Name\"]}, \"x\": {\"set\": [\"growth_rate\"]}, \"label\": {\"set\": [\"growth_rate\"]}, \"color\": {\"set\": [\"Country Name\"]}}, \"sort\": \"byValue\", \"title\": \"Population Growth Rate 1995\"}} }, {\"duration\": 1, \"x\": {\"easing\": \"linear\", \"delay\": 0}, \"y\": {\"delay\": 0}, \"show\": {\"delay\": 0}, \"hide\": {\"delay\": 0}, \"title\": {\"duration\": 0, \"delay\": 0}});"
      ]
     },
     "metadata": {},
     "output_type": "display_data"
    },
    {
     "data": {
      "application/javascript": [
       "window.ipyvizzu.animate(element, '4c59430', '1df5e8a', 'end', false, lib => { return {\"data\": {\"filter\": record => { return (parseInt(record.years) == 1996) }}, \"config\": {\"channels\": {\"y\": {\"set\": [\"Country Name\"]}, \"x\": {\"set\": [\"growth_rate\"]}, \"label\": {\"set\": [\"growth_rate\"]}, \"color\": {\"set\": [\"Country Name\"]}}, \"sort\": \"byValue\", \"title\": \"Population Growth Rate 1996\"}} }, {\"duration\": 1, \"x\": {\"easing\": \"linear\", \"delay\": 0}, \"y\": {\"delay\": 0}, \"show\": {\"delay\": 0}, \"hide\": {\"delay\": 0}, \"title\": {\"duration\": 0, \"delay\": 0}});"
      ]
     },
     "metadata": {},
     "output_type": "display_data"
    },
    {
     "data": {
      "application/javascript": [
       "window.ipyvizzu.animate(element, '4c59430', '466f0d0', 'end', false, lib => { return {\"data\": {\"filter\": record => { return (parseInt(record.years) == 1997) }}, \"config\": {\"channels\": {\"y\": {\"set\": [\"Country Name\"]}, \"x\": {\"set\": [\"growth_rate\"]}, \"label\": {\"set\": [\"growth_rate\"]}, \"color\": {\"set\": [\"Country Name\"]}}, \"sort\": \"byValue\", \"title\": \"Population Growth Rate 1997\"}} }, {\"duration\": 1, \"x\": {\"easing\": \"linear\", \"delay\": 0}, \"y\": {\"delay\": 0}, \"show\": {\"delay\": 0}, \"hide\": {\"delay\": 0}, \"title\": {\"duration\": 0, \"delay\": 0}});"
      ]
     },
     "metadata": {},
     "output_type": "display_data"
    },
    {
     "data": {
      "application/javascript": [
       "window.ipyvizzu.animate(element, '4c59430', '97f0609', 'end', false, lib => { return {\"data\": {\"filter\": record => { return (parseInt(record.years) == 1998) }}, \"config\": {\"channels\": {\"y\": {\"set\": [\"Country Name\"]}, \"x\": {\"set\": [\"growth_rate\"]}, \"label\": {\"set\": [\"growth_rate\"]}, \"color\": {\"set\": [\"Country Name\"]}}, \"sort\": \"byValue\", \"title\": \"Population Growth Rate 1998\"}} }, {\"duration\": 1, \"x\": {\"easing\": \"linear\", \"delay\": 0}, \"y\": {\"delay\": 0}, \"show\": {\"delay\": 0}, \"hide\": {\"delay\": 0}, \"title\": {\"duration\": 0, \"delay\": 0}});"
      ]
     },
     "metadata": {},
     "output_type": "display_data"
    },
    {
     "data": {
      "application/javascript": [
       "window.ipyvizzu.animate(element, '4c59430', 'a73ad3d', 'end', false, lib => { return {\"data\": {\"filter\": record => { return (parseInt(record.years) == 1999) }}, \"config\": {\"channels\": {\"y\": {\"set\": [\"Country Name\"]}, \"x\": {\"set\": [\"growth_rate\"]}, \"label\": {\"set\": [\"growth_rate\"]}, \"color\": {\"set\": [\"Country Name\"]}}, \"sort\": \"byValue\", \"title\": \"Population Growth Rate 1999\"}} }, {\"duration\": 1, \"x\": {\"easing\": \"linear\", \"delay\": 0}, \"y\": {\"delay\": 0}, \"show\": {\"delay\": 0}, \"hide\": {\"delay\": 0}, \"title\": {\"duration\": 0, \"delay\": 0}});"
      ]
     },
     "metadata": {},
     "output_type": "display_data"
    },
    {
     "data": {
      "application/javascript": [
       "window.ipyvizzu.animate(element, '4c59430', 'd1a2acd', 'end', false, lib => { return {\"data\": {\"filter\": record => { return (parseInt(record.years) == 2000) }}, \"config\": {\"channels\": {\"y\": {\"set\": [\"Country Name\"]}, \"x\": {\"set\": [\"growth_rate\"]}, \"label\": {\"set\": [\"growth_rate\"]}, \"color\": {\"set\": [\"Country Name\"]}}, \"sort\": \"byValue\", \"title\": \"Population Growth Rate 2000\"}} }, {\"duration\": 1, \"x\": {\"easing\": \"linear\", \"delay\": 0}, \"y\": {\"delay\": 0}, \"show\": {\"delay\": 0}, \"hide\": {\"delay\": 0}, \"title\": {\"duration\": 0, \"delay\": 0}});"
      ]
     },
     "metadata": {},
     "output_type": "display_data"
    },
    {
     "data": {
      "application/javascript": [
       "window.ipyvizzu.animate(element, '4c59430', '84afc33', 'end', false, lib => { return {\"data\": {\"filter\": record => { return (parseInt(record.years) == 2001) }}, \"config\": {\"channels\": {\"y\": {\"set\": [\"Country Name\"]}, \"x\": {\"set\": [\"growth_rate\"]}, \"label\": {\"set\": [\"growth_rate\"]}, \"color\": {\"set\": [\"Country Name\"]}}, \"sort\": \"byValue\", \"title\": \"Population Growth Rate 2001\"}} }, {\"duration\": 1, \"x\": {\"easing\": \"linear\", \"delay\": 0}, \"y\": {\"delay\": 0}, \"show\": {\"delay\": 0}, \"hide\": {\"delay\": 0}, \"title\": {\"duration\": 0, \"delay\": 0}});"
      ]
     },
     "metadata": {},
     "output_type": "display_data"
    },
    {
     "data": {
      "application/javascript": [
       "window.ipyvizzu.animate(element, '4c59430', '413b416', 'end', false, lib => { return {\"data\": {\"filter\": record => { return (parseInt(record.years) == 2002) }}, \"config\": {\"channels\": {\"y\": {\"set\": [\"Country Name\"]}, \"x\": {\"set\": [\"growth_rate\"]}, \"label\": {\"set\": [\"growth_rate\"]}, \"color\": {\"set\": [\"Country Name\"]}}, \"sort\": \"byValue\", \"title\": \"Population Growth Rate 2002\"}} }, {\"duration\": 1, \"x\": {\"easing\": \"linear\", \"delay\": 0}, \"y\": {\"delay\": 0}, \"show\": {\"delay\": 0}, \"hide\": {\"delay\": 0}, \"title\": {\"duration\": 0, \"delay\": 0}});"
      ]
     },
     "metadata": {},
     "output_type": "display_data"
    },
    {
     "data": {
      "application/javascript": [
       "window.ipyvizzu.animate(element, '4c59430', '7bbec72', 'end', false, lib => { return {\"data\": {\"filter\": record => { return (parseInt(record.years) == 2003) }}, \"config\": {\"channels\": {\"y\": {\"set\": [\"Country Name\"]}, \"x\": {\"set\": [\"growth_rate\"]}, \"label\": {\"set\": [\"growth_rate\"]}, \"color\": {\"set\": [\"Country Name\"]}}, \"sort\": \"byValue\", \"title\": \"Population Growth Rate 2003\"}} }, {\"duration\": 1, \"x\": {\"easing\": \"linear\", \"delay\": 0}, \"y\": {\"delay\": 0}, \"show\": {\"delay\": 0}, \"hide\": {\"delay\": 0}, \"title\": {\"duration\": 0, \"delay\": 0}});"
      ]
     },
     "metadata": {},
     "output_type": "display_data"
    },
    {
     "data": {
      "application/javascript": [
       "window.ipyvizzu.animate(element, '4c59430', 'b657d9f', 'end', false, lib => { return {\"data\": {\"filter\": record => { return (parseInt(record.years) == 2004) }}, \"config\": {\"channels\": {\"y\": {\"set\": [\"Country Name\"]}, \"x\": {\"set\": [\"growth_rate\"]}, \"label\": {\"set\": [\"growth_rate\"]}, \"color\": {\"set\": [\"Country Name\"]}}, \"sort\": \"byValue\", \"title\": \"Population Growth Rate 2004\"}} }, {\"duration\": 1, \"x\": {\"easing\": \"linear\", \"delay\": 0}, \"y\": {\"delay\": 0}, \"show\": {\"delay\": 0}, \"hide\": {\"delay\": 0}, \"title\": {\"duration\": 0, \"delay\": 0}});"
      ]
     },
     "metadata": {},
     "output_type": "display_data"
    },
    {
     "data": {
      "application/javascript": [
       "window.ipyvizzu.animate(element, '4c59430', 'f7cab6d', 'end', false, lib => { return {\"data\": {\"filter\": record => { return (parseInt(record.years) == 2005) }}, \"config\": {\"channels\": {\"y\": {\"set\": [\"Country Name\"]}, \"x\": {\"set\": [\"growth_rate\"]}, \"label\": {\"set\": [\"growth_rate\"]}, \"color\": {\"set\": [\"Country Name\"]}}, \"sort\": \"byValue\", \"title\": \"Population Growth Rate 2005\"}} }, {\"duration\": 1, \"x\": {\"easing\": \"linear\", \"delay\": 0}, \"y\": {\"delay\": 0}, \"show\": {\"delay\": 0}, \"hide\": {\"delay\": 0}, \"title\": {\"duration\": 0, \"delay\": 0}});"
      ]
     },
     "metadata": {},
     "output_type": "display_data"
    },
    {
     "data": {
      "application/javascript": [
       "window.ipyvizzu.animate(element, '4c59430', '4d7c1a5', 'end', false, lib => { return {\"data\": {\"filter\": record => { return (parseInt(record.years) == 2006) }}, \"config\": {\"channels\": {\"y\": {\"set\": [\"Country Name\"]}, \"x\": {\"set\": [\"growth_rate\"]}, \"label\": {\"set\": [\"growth_rate\"]}, \"color\": {\"set\": [\"Country Name\"]}}, \"sort\": \"byValue\", \"title\": \"Population Growth Rate 2006\"}} }, {\"duration\": 1, \"x\": {\"easing\": \"linear\", \"delay\": 0}, \"y\": {\"delay\": 0}, \"show\": {\"delay\": 0}, \"hide\": {\"delay\": 0}, \"title\": {\"duration\": 0, \"delay\": 0}});"
      ]
     },
     "metadata": {},
     "output_type": "display_data"
    },
    {
     "data": {
      "application/javascript": [
       "window.ipyvizzu.animate(element, '4c59430', '35ce190', 'end', false, lib => { return {\"data\": {\"filter\": record => { return (parseInt(record.years) == 2007) }}, \"config\": {\"channels\": {\"y\": {\"set\": [\"Country Name\"]}, \"x\": {\"set\": [\"growth_rate\"]}, \"label\": {\"set\": [\"growth_rate\"]}, \"color\": {\"set\": [\"Country Name\"]}}, \"sort\": \"byValue\", \"title\": \"Population Growth Rate 2007\"}} }, {\"duration\": 1, \"x\": {\"easing\": \"linear\", \"delay\": 0}, \"y\": {\"delay\": 0}, \"show\": {\"delay\": 0}, \"hide\": {\"delay\": 0}, \"title\": {\"duration\": 0, \"delay\": 0}});"
      ]
     },
     "metadata": {},
     "output_type": "display_data"
    },
    {
     "data": {
      "application/javascript": [
       "window.ipyvizzu.animate(element, '4c59430', 'd9f2919', 'end', false, lib => { return {\"data\": {\"filter\": record => { return (parseInt(record.years) == 2008) }}, \"config\": {\"channels\": {\"y\": {\"set\": [\"Country Name\"]}, \"x\": {\"set\": [\"growth_rate\"]}, \"label\": {\"set\": [\"growth_rate\"]}, \"color\": {\"set\": [\"Country Name\"]}}, \"sort\": \"byValue\", \"title\": \"Population Growth Rate 2008\"}} }, {\"duration\": 1, \"x\": {\"easing\": \"linear\", \"delay\": 0}, \"y\": {\"delay\": 0}, \"show\": {\"delay\": 0}, \"hide\": {\"delay\": 0}, \"title\": {\"duration\": 0, \"delay\": 0}});"
      ]
     },
     "metadata": {},
     "output_type": "display_data"
    },
    {
     "data": {
      "application/javascript": [
       "window.ipyvizzu.animate(element, '4c59430', '855b351', 'end', false, lib => { return {\"data\": {\"filter\": record => { return (parseInt(record.years) == 2009) }}, \"config\": {\"channels\": {\"y\": {\"set\": [\"Country Name\"]}, \"x\": {\"set\": [\"growth_rate\"]}, \"label\": {\"set\": [\"growth_rate\"]}, \"color\": {\"set\": [\"Country Name\"]}}, \"sort\": \"byValue\", \"title\": \"Population Growth Rate 2009\"}} }, {\"duration\": 1, \"x\": {\"easing\": \"linear\", \"delay\": 0}, \"y\": {\"delay\": 0}, \"show\": {\"delay\": 0}, \"hide\": {\"delay\": 0}, \"title\": {\"duration\": 0, \"delay\": 0}});"
      ]
     },
     "metadata": {},
     "output_type": "display_data"
    },
    {
     "data": {
      "application/javascript": [
       "window.ipyvizzu.animate(element, '4c59430', '1863de8', 'end', false, lib => { return {\"data\": {\"filter\": record => { return (parseInt(record.years) == 2010) }}, \"config\": {\"channels\": {\"y\": {\"set\": [\"Country Name\"]}, \"x\": {\"set\": [\"growth_rate\"]}, \"label\": {\"set\": [\"growth_rate\"]}, \"color\": {\"set\": [\"Country Name\"]}}, \"sort\": \"byValue\", \"title\": \"Population Growth Rate 2010\"}} }, {\"duration\": 1, \"x\": {\"easing\": \"linear\", \"delay\": 0}, \"y\": {\"delay\": 0}, \"show\": {\"delay\": 0}, \"hide\": {\"delay\": 0}, \"title\": {\"duration\": 0, \"delay\": 0}});"
      ]
     },
     "metadata": {},
     "output_type": "display_data"
    },
    {
     "data": {
      "application/javascript": [
       "window.ipyvizzu.animate(element, '4c59430', '583cc1f', 'end', false, lib => { return {\"data\": {\"filter\": record => { return (parseInt(record.years) == 2011) }}, \"config\": {\"channels\": {\"y\": {\"set\": [\"Country Name\"]}, \"x\": {\"set\": [\"growth_rate\"]}, \"label\": {\"set\": [\"growth_rate\"]}, \"color\": {\"set\": [\"Country Name\"]}}, \"sort\": \"byValue\", \"title\": \"Population Growth Rate 2011\"}} }, {\"duration\": 1, \"x\": {\"easing\": \"linear\", \"delay\": 0}, \"y\": {\"delay\": 0}, \"show\": {\"delay\": 0}, \"hide\": {\"delay\": 0}, \"title\": {\"duration\": 0, \"delay\": 0}});"
      ]
     },
     "metadata": {},
     "output_type": "display_data"
    },
    {
     "data": {
      "application/javascript": [
       "window.ipyvizzu.animate(element, '4c59430', 'bf544cf', 'end', false, lib => { return {\"data\": {\"filter\": record => { return (parseInt(record.years) == 2012) }}, \"config\": {\"channels\": {\"y\": {\"set\": [\"Country Name\"]}, \"x\": {\"set\": [\"growth_rate\"]}, \"label\": {\"set\": [\"growth_rate\"]}, \"color\": {\"set\": [\"Country Name\"]}}, \"sort\": \"byValue\", \"title\": \"Population Growth Rate 2012\"}} }, {\"duration\": 1, \"x\": {\"easing\": \"linear\", \"delay\": 0}, \"y\": {\"delay\": 0}, \"show\": {\"delay\": 0}, \"hide\": {\"delay\": 0}, \"title\": {\"duration\": 0, \"delay\": 0}});"
      ]
     },
     "metadata": {},
     "output_type": "display_data"
    },
    {
     "data": {
      "application/javascript": [
       "window.ipyvizzu.animate(element, '4c59430', '66c14ec', 'end', false, lib => { return {\"data\": {\"filter\": record => { return (parseInt(record.years) == 2013) }}, \"config\": {\"channels\": {\"y\": {\"set\": [\"Country Name\"]}, \"x\": {\"set\": [\"growth_rate\"]}, \"label\": {\"set\": [\"growth_rate\"]}, \"color\": {\"set\": [\"Country Name\"]}}, \"sort\": \"byValue\", \"title\": \"Population Growth Rate 2013\"}} }, {\"duration\": 1, \"x\": {\"easing\": \"linear\", \"delay\": 0}, \"y\": {\"delay\": 0}, \"show\": {\"delay\": 0}, \"hide\": {\"delay\": 0}, \"title\": {\"duration\": 0, \"delay\": 0}});"
      ]
     },
     "metadata": {},
     "output_type": "display_data"
    },
    {
     "data": {
      "application/javascript": [
       "window.ipyvizzu.animate(element, '4c59430', 'a841f5d', 'end', false, lib => { return {\"data\": {\"filter\": record => { return (parseInt(record.years) == 2014) }}, \"config\": {\"channels\": {\"y\": {\"set\": [\"Country Name\"]}, \"x\": {\"set\": [\"growth_rate\"]}, \"label\": {\"set\": [\"growth_rate\"]}, \"color\": {\"set\": [\"Country Name\"]}}, \"sort\": \"byValue\", \"title\": \"Population Growth Rate 2014\"}} }, {\"duration\": 1, \"x\": {\"easing\": \"linear\", \"delay\": 0}, \"y\": {\"delay\": 0}, \"show\": {\"delay\": 0}, \"hide\": {\"delay\": 0}, \"title\": {\"duration\": 0, \"delay\": 0}});"
      ]
     },
     "metadata": {},
     "output_type": "display_data"
    },
    {
     "data": {
      "application/javascript": [
       "window.ipyvizzu.animate(element, '4c59430', '052db91', 'end', false, lib => { return {\"data\": {\"filter\": record => { return (parseInt(record.years) == 2015) }}, \"config\": {\"channels\": {\"y\": {\"set\": [\"Country Name\"]}, \"x\": {\"set\": [\"growth_rate\"]}, \"label\": {\"set\": [\"growth_rate\"]}, \"color\": {\"set\": [\"Country Name\"]}}, \"sort\": \"byValue\", \"title\": \"Population Growth Rate 2015\"}} }, {\"duration\": 1, \"x\": {\"easing\": \"linear\", \"delay\": 0}, \"y\": {\"delay\": 0}, \"show\": {\"delay\": 0}, \"hide\": {\"delay\": 0}, \"title\": {\"duration\": 0, \"delay\": 0}});"
      ]
     },
     "metadata": {},
     "output_type": "display_data"
    },
    {
     "data": {
      "application/javascript": [
       "window.ipyvizzu.animate(element, '4c59430', '2886184', 'end', false, lib => { return {\"data\": {\"filter\": record => { return (parseInt(record.years) == 2016) }}, \"config\": {\"channels\": {\"y\": {\"set\": [\"Country Name\"]}, \"x\": {\"set\": [\"growth_rate\"]}, \"label\": {\"set\": [\"growth_rate\"]}, \"color\": {\"set\": [\"Country Name\"]}}, \"sort\": \"byValue\", \"title\": \"Population Growth Rate 2016\"}} }, {\"duration\": 1, \"x\": {\"easing\": \"linear\", \"delay\": 0}, \"y\": {\"delay\": 0}, \"show\": {\"delay\": 0}, \"hide\": {\"delay\": 0}, \"title\": {\"duration\": 0, \"delay\": 0}});"
      ]
     },
     "metadata": {},
     "output_type": "display_data"
    },
    {
     "data": {
      "application/javascript": [
       "window.ipyvizzu.animate(element, '4c59430', 'dcae15c', 'end', false, lib => { return {\"data\": {\"filter\": record => { return (parseInt(record.years) == 2017) }}, \"config\": {\"channels\": {\"y\": {\"set\": [\"Country Name\"]}, \"x\": {\"set\": [\"growth_rate\"]}, \"label\": {\"set\": [\"growth_rate\"]}, \"color\": {\"set\": [\"Country Name\"]}}, \"sort\": \"byValue\", \"title\": \"Population Growth Rate 2017\"}} }, {\"duration\": 1, \"x\": {\"easing\": \"linear\", \"delay\": 0}, \"y\": {\"delay\": 0}, \"show\": {\"delay\": 0}, \"hide\": {\"delay\": 0}, \"title\": {\"duration\": 0, \"delay\": 0}});"
      ]
     },
     "metadata": {},
     "output_type": "display_data"
    },
    {
     "data": {
      "application/javascript": [
       "window.ipyvizzu.animate(element, '4c59430', 'c29a05e', 'end', false, lib => { return {\"data\": {\"filter\": record => { return (parseInt(record.years) == 2018) }}, \"config\": {\"channels\": {\"y\": {\"set\": [\"Country Name\"]}, \"x\": {\"set\": [\"growth_rate\"]}, \"label\": {\"set\": [\"growth_rate\"]}, \"color\": {\"set\": [\"Country Name\"]}}, \"sort\": \"byValue\", \"title\": \"Population Growth Rate 2018\"}} }, {\"duration\": 1, \"x\": {\"easing\": \"linear\", \"delay\": 0}, \"y\": {\"delay\": 0}, \"show\": {\"delay\": 0}, \"hide\": {\"delay\": 0}, \"title\": {\"duration\": 0, \"delay\": 0}});"
      ]
     },
     "metadata": {},
     "output_type": "display_data"
    },
    {
     "data": {
      "application/javascript": [
       "window.ipyvizzu.animate(element, '4c59430', 'cd51ca8', 'end', false, lib => { return {\"data\": {\"filter\": record => { return (parseInt(record.years) == 2019) }}, \"config\": {\"channels\": {\"y\": {\"set\": [\"Country Name\"]}, \"x\": {\"set\": [\"growth_rate\"]}, \"label\": {\"set\": [\"growth_rate\"]}, \"color\": {\"set\": [\"Country Name\"]}}, \"sort\": \"byValue\", \"title\": \"Population Growth Rate 2019\"}} }, {\"duration\": 1, \"x\": {\"easing\": \"linear\", \"delay\": 0}, \"y\": {\"delay\": 0}, \"show\": {\"delay\": 0}, \"hide\": {\"delay\": 0}, \"title\": {\"duration\": 0, \"delay\": 0}});"
      ]
     },
     "metadata": {},
     "output_type": "display_data"
    },
    {
     "data": {
      "application/javascript": [
       "window.ipyvizzu.animate(element, '4c59430', 'b7542f8', 'end', false, lib => { return {\"data\": {\"filter\": record => { return (parseInt(record.years) == 2020) }}, \"config\": {\"channels\": {\"y\": {\"set\": [\"Country Name\"]}, \"x\": {\"set\": [\"growth_rate\"]}, \"label\": {\"set\": [\"growth_rate\"]}, \"color\": {\"set\": [\"Country Name\"]}}, \"sort\": \"byValue\", \"title\": \"Population Growth Rate 2020\"}} }, {\"duration\": 1, \"x\": {\"easing\": \"linear\", \"delay\": 0}, \"y\": {\"delay\": 0}, \"show\": {\"delay\": 0}, \"hide\": {\"delay\": 0}, \"title\": {\"duration\": 0, \"delay\": 0}});"
      ]
     },
     "metadata": {},
     "output_type": "display_data"
    },
    {
     "data": {
      "application/javascript": [
       "window.ipyvizzu.animate(element, '4c59430', 'd01d363', 'end', false, lib => { return {\"data\": {\"filter\": record => { return (parseInt(record.years) == 2021) }}, \"config\": {\"channels\": {\"y\": {\"set\": [\"Country Name\"]}, \"x\": {\"set\": [\"growth_rate\"]}, \"label\": {\"set\": [\"growth_rate\"]}, \"color\": {\"set\": [\"Country Name\"]}}, \"sort\": \"byValue\", \"title\": \"Population Growth Rate 2021\"}} }, {\"duration\": 1, \"x\": {\"easing\": \"linear\", \"delay\": 0}, \"y\": {\"delay\": 0}, \"show\": {\"delay\": 0}, \"hide\": {\"delay\": 0}, \"title\": {\"duration\": 0, \"delay\": 0}});"
      ]
     },
     "metadata": {},
     "output_type": "display_data"
    }
   ],
   "source": [
    "import pandas as pd\n",
    "import imageio\n",
    "from ipyvizzu import Chart, Data, Config, Style, DisplayTarget\n",
    "\n",
    "data_frame = pd.read_csv(\n",
    "    #\"https://ipyvizzu.vizzuhq.com/0.15/showcases/musicformats/musicformats.csv\",\n",
    "    \"growth_rate_pfc.csv\",\n",
    "    dtype={\"years\": str},\n",
    ")\n",
    "data = Data()\n",
    "data.add_data_frame(data_frame)\n",
    "\n",
    "config = {\n",
    "    \"channels\": {\n",
    "        \"y\": {\n",
    "            \"set\": [\"Country Name\"],\n",
    "        },\n",
    "        \"x\": {\"set\": [\"growth_rate\"]},\n",
    "        \"label\": {\"set\": [\"growth_rate\"]},\n",
    "        \"color\": {\"set\": [\"Country Name\"]},\n",
    "    },\n",
    "    \"sort\": \"byValue\",\n",
    "}\n",
    "\n",
    "style = Style(\n",
    "    {\n",
    "        \"plot\": {\n",
    "            \"paddingLeft\": 100,\n",
    "            \"paddingTop\": 25,\n",
    "            \"yAxis\": {\n",
    "                \"color\": \"#ffffff00\",\n",
    "                \"label\": {\"paddingRight\": 10},\n",
    "            },\n",
    "            \"xAxis\": {\n",
    "                \"title\": {\"color\": \"#ffffff00\"},\n",
    "                \"label\": {\n",
    "                    \"color\": \"#ffffff00\",\n",
    "                    \"numberFormat\": \"grouped\",\n",
    "                },\n",
    "            },\n",
    "            \"marker\": {\n",
    "                \"colorPalette\": \"#b74c20FF #c47f58FF #1c9761FF\"\n",
    "                + \" #ea4549FF #875792FF #3562b6FF\"\n",
    "                + \" #ee7c34FF #efae3aFF\"\n",
    "            },\n",
    "        },\n",
    "    }\n",
    ")\n",
    "\n",
    "chart = Chart(display=DisplayTarget.END)\n",
    "\n",
    "chart.animate(data, style)\n",
    "\n",
    "for year in range(1961, 2022):\n",
    "    config[\"title\"] = f\"Population Growth Rate {year}\"\n",
    "    chart.animate(\n",
    "        Data.filter(f\"parseInt(record.years) == {year}\"),\n",
    "        Config(config),\n",
    "        duration=1,\n",
    "        x={\"easing\": \"linear\", \"delay\": 0},\n",
    "        y={\"delay\": 0},\n",
    "        show={\"delay\": 0},\n",
    "        hide={\"delay\": 0},\n",
    "        title={\"duration\": 0, \"delay\": 0},\n",
    "    )\n",
    "\n"
   ]
  }
 ],
 "metadata": {
  "kernelspec": {
   "display_name": "Python 3",
   "language": "python",
   "name": "python3"
  },
  "language_info": {
   "codemirror_mode": {
    "name": "ipython",
    "version": 3
   },
   "file_extension": ".py",
   "mimetype": "text/x-python",
   "name": "python",
   "nbconvert_exporter": "python",
   "pygments_lexer": "ipython3",
   "version": "3.8.8"
  }
 },
 "nbformat": 4,
 "nbformat_minor": 5
}
